{
 "cells": [
  {
   "cell_type": "markdown",
   "metadata": {},
   "source": [
    "# P-Values"
   ]
  },
  {
   "cell_type": "markdown",
   "metadata": {},
   "source": [
    "Se muestrean 60 tornillos de una poblacion de la cual se conoce que la media de imperfecciones es 100 y la dispersion es 15 (mu=100, sigma=15.0), y se tiene como hipótesis alternativa que las medias muestrales están significativamente por encima o por debajo de la media de la población y como hipótesis nula que son comparables con cualquier muestra de 60 de la población y por ende la media muestral es esperada. Se realizan tests z para probar si las hipotesis nulas son o no verdad, el valor crítico es el p value 0.05 para el cual se acepta la hipotesis alternativa. "
   ]
  },
  {
   "cell_type": "code",
   "execution_count": 69,
   "metadata": {
    "collapsed": false
   },
   "outputs": [
    {
     "name": "stdout",
     "output_type": "stream",
     "text": [
      "Populating the interactive namespace from numpy and matplotlib\n"
     ]
    },
    {
     "name": "stderr",
     "output_type": "stream",
     "text": [
      "WARNING: pylab import has clobbered these variables: ['f']\n",
      "`%matplotlib` prevents importing * from pylab and numpy\n"
     ]
    }
   ],
   "source": [
    "% pylab inline\n",
    "from scipy.stats import t\n",
    "import matplotlib.pyplot as plt\n",
    "import numpy as np\n",
    "import scipy\n",
    "from scipy import special\n"
   ]
  },
  {
   "cell_type": "markdown",
   "metadata": {},
   "source": [
    "Para N=10000 experimentos se muestra la distribución de los valores que toma z\n"
   ]
  },
  {
   "cell_type": "code",
   "execution_count": 126,
   "metadata": {
    "collapsed": false
   },
   "outputs": [
    {
     "name": "stdout",
     "output_type": "stream",
     "text": [
      "-0.00853928704197\n"
     ]
    },
    {
     "data": {
      "image/png": "[encoded data removed]",
      "text/plain": [
       "<matplotlib.figure.Figure at 0x113153050>"
      ]
     },
     "metadata": {},
     "output_type": "display_data"
    }
   ],
   "source": [
    "\n",
    "m=60\n",
    "N=10000\n",
    "\n",
    "\n",
    "mu, sigma = 100, 15 # mean and standard deviation\n",
    "za=[]\n",
    "\n",
    "for i in range(0,N):\n",
    "    \n",
    "    s = np.random.normal(mu, sigma, m)\n",
    "    z= (np.mean(s)-mu)/(sigma/np.sqrt(m))\n",
    "    za.append(z)\n",
    "    \n",
    "count, bins, ignored = plt.hist(za, m, normed=True)\n",
    "\n",
    "w=np.mean(za)\n",
    "f=np.std(za)\n",
    "\n",
    "\n",
    "plt.plot( bins, (1/np.sqrt(2*np.pi*f**2))*np.exp((-(bins-w)**2)/(2*(f**2))) ,\n",
    "         linewidth=2, color='g')\n",
    "\n",
    "print w\n",
    "plt.show()"
   ]
  },
  {
   "cell_type": "markdown",
   "metadata": {},
   "source": [
    "Para z positivo se ve si el valor está significativamente arriba de la media poblacional y para z negativo se ve si el valor está significativamente por debajo de la media poblacional, se hace una histograma con la cuenta de p-values que se obtienen"
   ]
  },
  {
   "cell_type": "code",
   "execution_count": 153,
   "metadata": {
    "collapsed": false
   },
   "outputs": [
    {
     "data": {
      "image/png": "[encoded data removed]",
      "text/plain": [
       "<matplotlib.figure.Figure at 0x10d7a53d0>"
      ]
     },
     "metadata": {},
     "output_type": "display_data"
    }
   ],
   "source": [
    "\n",
    "za2=[]\n",
    "for i in range(0,N):\n",
    "    if(za[i]>0):\n",
    "        zau=(1-scipy.special.erf(za[i]))\n",
    "    if(za[i]<0):\n",
    "        zau=(scipy.special.erf(za[i])+1)\n",
    "    za2.append(zau)\n",
    "    \n",
    "count, bins,ignored = plt.hist(za2,100, normed=True)\n",
    "\n"
   ]
  },
  {
   "cell_type": "markdown",
   "metadata": {
    "collapsed": false
   },
   "source": [
    "Ahora queremos ver como varian el maximo, el minimo y la media de la meta distribucion de p values con el numero de experimentos que se realizan (para 10000 se demora un poco en correr)"
   ]
  },
  {
   "cell_type": "code",
   "execution_count": 204,
   "metadata": {
    "collapsed": false
   },
   "outputs": [],
   "source": [
    "minN=[]\n",
    "maxN=[]\n",
    "meanN=[]\n",
    "pminN=[]\n",
    "pmaxN=[]\n",
    "pmeanN=[]\n",
    "Ns=[]\n",
    "for N2 in range(100,10000,100):\n",
    "    for i in range(0,N2):\n",
    "    \n",
    "        s = np.random.normal(mu, sigma, m)\n",
    "        z= (np.mean(s)-mu)/(sigma/np.sqrt(m))\n",
    "        za.append(z)\n",
    "        if(za[i]>0):\n",
    "            zau=(1-scipy.special.erf(za[i]))\n",
    "        if(za[i]<0):\n",
    "            zau=(scipy.special.erf(za[i])+1)\n",
    "        za2.append(zau)\n",
    "\n",
    "    minN.append(np.amin(histogram(za2,100,density=True )[0]))\n",
    "    maxN.append(np.amax(histogram(za2,100,density=True )[0]))\n",
    "    meanN.append(np.sum(histogram(za2,100,density=True)[0]*histogram(za2,100,density=True)[1][0:-1]))\n",
    "    Ns.append(N2)\n",
    "    \n",
    "\n"
   ]
  },
  {
   "cell_type": "markdown",
   "metadata": {},
   "source": [
    "Grafica que muestra el cambio del maximo de la meta distribucion en funcion del numero de experimentos"
   ]
  },
  {
   "cell_type": "code",
   "execution_count": 205,
   "metadata": {
    "collapsed": false
   },
   "outputs": [
    {
     "data": {
      "text/plain": [
       "[<matplotlib.lines.Line2D at 0x11caa9310>]"
      ]
     },
     "execution_count": 205,
     "metadata": {},
     "output_type": "execute_result"
    },
    {
     "data": {
      "image/png": "[encoded data removed]",
      "text/plain": [
       "<matplotlib.figure.Figure at 0x1114b1250>"
      ]
     },
     "metadata": {},
     "output_type": "display_data"
    }
   ],
   "source": [
    "plot(Ns,minN)"
   ]
  },
  {
   "cell_type": "markdown",
   "metadata": {},
   "source": [
    "Grafica que muestra el cambio del minimo de la meta distribucion en funcion del numero de experimentos"
   ]
  },
  {
   "cell_type": "code",
   "execution_count": 206,
   "metadata": {
    "collapsed": false
   },
   "outputs": [
    {
     "data": {
      "text/plain": [
       "[<matplotlib.lines.Line2D at 0x11cb53a90>]"
      ]
     },
     "execution_count": 206,
     "metadata": {},
     "output_type": "execute_result"
    },
    {
     "data": {
      "image/png": "[encoded data removed]",
      "text/plain": [
       "<matplotlib.figure.Figure at 0x11b0adb10>"
      ]
     },
     "metadata": {},
     "output_type": "display_data"
    }
   ],
   "source": [
    "plot(Ns,maxN)"
   ]
  },
  {
   "cell_type": "markdown",
   "metadata": {},
   "source": [
    "Grafica que muestra el cambio del promedio de la meta distribucion en funcion del numero de experimentos"
   ]
  },
  {
   "cell_type": "code",
   "execution_count": 207,
   "metadata": {
    "collapsed": false
   },
   "outputs": [
    {
     "data": {
      "text/plain": [
       "[<matplotlib.lines.Line2D at 0x11cc04750>]"
      ]
     },
     "execution_count": 207,
     "metadata": {},
     "output_type": "execute_result"
    },
    {
     "data": {
      "image/png": "[encoded data removed]",
      "text/plain": [
       "<matplotlib.figure.Figure at 0x11cb87ad0>"
      ]
     },
     "metadata": {},
     "output_type": "display_data"
    }
   ],
   "source": [
    "plot(Ns,meanN)"
   ]
  },
  {
   "cell_type": "markdown",
   "metadata": {},
   "source": [
    "no se ve claramente pero la media de la meta distribucion es 0.3868 "
   ]
  },
  {
   "cell_type": "code",
   "execution_count": 216,
   "metadata": {
    "collapsed": false
   },
   "outputs": [
    {
     "data": {
      "text/plain": [
       "0.38694349854901205"
      ]
     },
     "execution_count": 216,
     "metadata": {},
     "output_type": "execute_result"
    }
   ],
   "source": [
    "np.sum(histogram(za2,100,density=True)[0]*histogram(za2,100,density=True)[1][0:-1]*(histogram(za2,100,density=True)[1][1]-histogram(za2,100,density=True)[1][0]))"
   ]
  },
  {
   "cell_type": "code",
   "execution_count": null,
   "metadata": {
    "collapsed": true
   },
   "outputs": [],
   "source": []
  }
 ],
 "metadata": {
  "kernelspec": {
   "display_name": "Python 2",
   "language": "python",
   "name": "python2"
  },
  "language_info": {
   "codemirror_mode": {
    "name": "ipython",
    "version": 2
   },
   "file_extension": ".py",
   "mimetype": "text/x-python",
   "name": "python",
   "nbconvert_exporter": "python",
   "pygments_lexer": "ipython2",
   "version": "2.7.11"
  }
 },
 "nbformat": 4,
 "nbformat_minor": 0
}
