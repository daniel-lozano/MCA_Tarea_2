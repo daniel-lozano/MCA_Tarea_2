{
 "cells": [
  {
   "cell_type": "code",
   "execution_count": 1,
   "metadata": {
    "collapsed": false
   },
   "outputs": [
    {
     "name": "stdout",
     "output_type": "stream",
     "text": [
      "Populating the interactive namespace from numpy and matplotlib\n"
     ]
    },
    {
     "name": "stderr",
     "output_type": "stream",
     "text": [
      "/Users/daniellozano/anaconda/lib/python2.7/site-packages/matplotlib/font_manager.py:273: UserWarning: Matplotlib is building the font cache using fc-list. This may take a moment.\n",
      "  warnings.warn('Matplotlib is building the font cache using fc-list. This may take a moment.')\n"
     ]
    }
   ],
   "source": [
    "%pylab inline\n",
    "import pandas as pd\n",
    "import seaborn as sns\n",
    "from sklearn.linear_model import LinearRegression #para hacer regresiones lineales\n",
    "from sklearn.cross_validation import train_test_split #para separar datos entre datos de test y entrenamiento\n",
    "from sklearn import metrics # para medir (metricas) errores, etc."
   ]
  },
  {
   "cell_type": "code",
   "execution_count": 2,
   "metadata": {
    "collapsed": false
   },
   "outputs": [
    {
     "name": "stdout",
     "output_type": "stream",
     "text": [
      "['1', '14.23', '1.71', '2.43', '15.6', '127', '2.8', '3.06', '.28', '2.29', '5.64', '1.04', '3.92', '1065'] 14\n",
      "1.0\n",
      "Aqui \n"
     ]
    }
   ],
   "source": [
    "FILE=open(\"wine.dat\").read().split('\\n')\n",
    "print FILE[0].split(','), size(FILE[0].split(','))\n",
    "print float(FILE[0].split(',')[0])\n",
    "print \"Aqui\",(FILE[-1])"
   ]
  },
  {
   "cell_type": "code",
   "execution_count": 3,
   "metadata": {
    "collapsed": false
   },
   "outputs": [
    {
     "name": "stdout",
     "output_type": "stream",
     "text": [
      "14\n",
      "['1', '14.23', '1.71', '2.43', '15.6', '127', '2.8', '3.06', '.28', '2.29', '5.64', '1.04', '3.92', '1065']\n",
      "179\n"
     ]
    }
   ],
   "source": [
    "WINE=zeros([len(FILE)-1,size(FILE[0].split(',')),])\n",
    "print len(FILE[0].split(','))\n",
    "print FILE[0].split(',')\n",
    "print len(FILE)"
   ]
  },
  {
   "cell_type": "code",
   "execution_count": 4,
   "metadata": {
    "collapsed": false
   },
   "outputs": [],
   "source": [
    "for i in range(len(FILE)-1):\n",
    "    for j in range(len(FILE[0].split(','))):\n",
    "        WINE[i][j]=float(FILE[i].split(',')[j])"
   ]
  },
  {
   "cell_type": "code",
   "execution_count": 5,
   "metadata": {
    "collapsed": false
   },
   "outputs": [
    {
     "name": "stdout",
     "output_type": "stream",
     "text": [
      "[   3.     14.13    4.1     2.74   24.5    96.      2.05    0.76    0.56\n",
      "    1.35    9.2     0.61    1.6   560.  ]\n",
      "(178, 14)\n"
     ]
    }
   ],
   "source": [
    "print WINE[-1,:]\n",
    "print shape(WINE)"
   ]
  },
  {
   "cell_type": "markdown",
   "metadata": {},
   "source": [
    "$ 1)\\ Type\\ \\\\ \n",
    "2)\\ Alcohol\\ \\\\\n",
    "3)\\ Malic acid\\  \\\\\n",
    "4)\\ Ash\\  \\\\\n",
    "5)\\ Alcalinity\\ of\\ ash\\ \\\\\n",
    "6)\\ Magnesium\\ \\\\\n",
    "7)\\ Total phenols\\ \\\\\n",
    "8)\\ Flavanoids\\ \\\\\n",
    "9)\\ Nonflavanoid phenols\\ \\\\ \n",
    "10)\\ Proanthocyanins\\ \\\\\n",
    "11)\\ Color intensity\\ \\\\\n",
    "12)\\ Hue\\ \\\\\n",
    "13)\\ OD280/OD315 of diluted wines\\ \\\\\n",
    "14)\\ Proline\\ $ "
   ]
  },
  {
   "cell_type": "code",
   "execution_count": 6,
   "metadata": {
    "collapsed": false
   },
   "outputs": [
    {
     "name": "stdout",
     "output_type": "stream",
     "text": [
      "0.655359730463\n",
      "1.0\n"
     ]
    }
   ],
   "source": [
    "print np.var(WINE[:,1])\n",
    "a=np.sqrt(np.var(WINE[:,1]))\n",
    "print np.var(WINE[:,1]/a)"
   ]
  },
  {
   "cell_type": "markdown",
   "metadata": {},
   "source": [
    "# PCA"
   ]
  },
  {
   "cell_type": "code",
   "execution_count": 7,
   "metadata": {
    "collapsed": true
   },
   "outputs": [],
   "source": [
    "#Paquete de PCA\n",
    "from sklearn.decomposition import PCA\n",
    "pca = PCA()#n_components=len(WINE[:,0]))"
   ]
  },
  {
   "cell_type": "code",
   "execution_count": 8,
   "metadata": {
    "collapsed": false
   },
   "outputs": [
    {
     "name": "stdout",
     "output_type": "stream",
     "text": [
      "(178, 13) (178, 14)\n",
      "1.0 -8.38280755672e-16\n",
      "1.0 -1.19754393667e-16\n",
      "1.0 -8.37033314071e-16\n",
      "1.0 -3.99181312225e-17\n",
      "1.0 -3.99181312225e-17\n",
      "1.0 0.0\n",
      "1.0 -3.99181312225e-16\n",
      "1.0 3.59263181002e-16\n",
      "1.0 -1.39713459279e-16\n",
      "1.0 2.4948832014e-17\n",
      "1.0 1.99590656112e-16\n",
      "1.0 3.1934504978e-16\n",
      "1.0 -1.5967252489e-16\n"
     ]
    }
   ],
   "source": [
    "W=zeros([len(WINE[:,0]),len(WINE[0,:])-1])\n",
    "print shape(W),shape(WINE)\n",
    "\n",
    "for i in range(len(W[0,:])):\n",
    "    W[:,i]=WINE[:,i+1]-np.mean(WINE[:,i+1])\n",
    "    W[:,i]=W[:,i]/np.sqrt(np.var(W[:,i])) # creando arreglo de varianza=1 y media aproximadamente 0\n",
    "    \n",
    "    print np.sqrt(np.var(W[:,i])),np.mean(W[:,i]) #varianza"
   ]
  },
  {
   "cell_type": "code",
   "execution_count": 9,
   "metadata": {
    "collapsed": false
   },
   "outputs": [
    {
     "data": {
      "text/plain": [
       "PCA(copy=True, n_components=None, whiten=False)"
      ]
     },
     "execution_count": 9,
     "metadata": {},
     "output_type": "execute_result"
    }
   ],
   "source": [
    "pca.fit(W)#se hace el analisis de PCA"
   ]
  },
  {
   "cell_type": "code",
   "execution_count": 10,
   "metadata": {
    "collapsed": false
   },
   "outputs": [
    {
     "data": {
      "text/plain": [
       "(13, 13)"
      ]
     },
     "execution_count": 10,
     "metadata": {},
     "output_type": "execute_result"
    }
   ],
   "source": [
    "shape(pca.components_)#Hay 13 componentes ya que hay 13 caracteristicas, Min (178-1,13)=13"
   ]
  },
  {
   "cell_type": "code",
   "execution_count": 11,
   "metadata": {
    "collapsed": false
   },
   "outputs": [
    {
     "data": {
      "text/plain": [
       "<matplotlib.text.Text at 0x117733a10>"
      ]
     },
     "execution_count": 11,
     "metadata": {},
     "output_type": "execute_result"
    },
    {
     "data": {
      "image/png": "[encoded data removed]",
      "text/plain": [
       "<matplotlib.figure.Figure at 0x115059e50>"
      ]
     },
     "metadata": {},
     "output_type": "display_data"
    }
   ],
   "source": [
    "plot(pca.explained_variance_ratio_,\"-o\")\n",
    "xlabel(\"# de componente\")\n",
    "ylabel(\"Cuanto explica cada componente\")"
   ]
  },
  {
   "cell_type": "code",
   "execution_count": 12,
   "metadata": {
    "collapsed": false
   },
   "outputs": [
    {
     "data": {
      "text/plain": [
       "<matplotlib.text.Text at 0x117968890>"
      ]
     },
     "execution_count": 12,
     "metadata": {},
     "output_type": "execute_result"
    },
    {
     "data": {
      "image/png": "[encoded data removed]",
      "text/plain": [
       "<matplotlib.figure.Figure at 0x117733250>"
      ]
     },
     "metadata": {},
     "output_type": "display_data"
    }
   ],
   "source": [
    "Suma=zeros(len(pca.explained_variance_ratio_))\n",
    "suma=0\n",
    "for i in range(len(Suma)):\n",
    "    suma+=pca.explained_variance_ratio_[i]\n",
    "    Suma[i]=suma\n",
    "\n",
    "plot(Suma,\"-o\")    \n",
    "xlabel(\" $ No.\\ de\\ componentes\\ tomados\\ $\",size=15)\n",
    "ylabel(\"$ Cuanto\\ explica\\ un\\ conjunto\\ de\\ comp.\\ $\",size=15)"
   ]
  },
  {
   "cell_type": "code",
   "execution_count": 13,
   "metadata": {
    "collapsed": false
   },
   "outputs": [
    {
     "name": "stdout",
     "output_type": "stream",
     "text": [
      "[ 0.36198848  0.1920749   0.11123631  0.0706903   0.06563294  0.04935823\n",
      "  0.04238679  0.02680749  0.02222153  0.01930019  0.01736836  0.01298233\n",
      "  0.00795215] \n",
      "\n",
      "[ 4.70585025  2.49697373  1.44607197  0.91897392  0.85322818  0.64165703\n",
      "  0.55102831  0.34849736  0.28887994  0.25090248  0.22578864  0.16877023\n",
      "  0.10337794]\n"
     ]
    }
   ],
   "source": [
    "print pca.explained_variance_ratio_,\"\\n\"\n",
    "print pca.explained_variance_"
   ]
  },
  {
   "cell_type": "code",
   "execution_count": 14,
   "metadata": {
    "collapsed": false,
    "scrolled": true
   },
   "outputs": [
    {
     "name": "stdout",
     "output_type": "stream",
     "text": [
      "PVE= 0.361988480999 Numero de componentes 1\n",
      "PVE= 0.554063383569 Numero de componentes 2\n",
      "PVE= 0.665299688932 Numero de componentes 3\n",
      "PVE= 0.735989990759 Numero de componentes 4\n",
      "PVE= 0.801622927555 Numero de componentes 5\n",
      "PVE= 0.850981160748 Numero de componentes 6\n",
      "PVE= 0.893367953974 Numero de componentes 7\n",
      "PVE= 0.920175443458 Numero de componentes 8\n",
      "PVE= 0.942396977506 Numero de componentes 9\n",
      "PVE= 0.961697168445 Numero de componentes 10\n",
      "PVE= 0.979065525345 Numero de componentes 11\n",
      "PVE= 0.992047851101 Numero de componentes 12\n",
      "PVE= 1.0 Numero de componentes 13\n"
     ]
    }
   ],
   "source": [
    "suma=0\n",
    "for i in range(len(pca.explained_variance_ratio_)):\n",
    "    suma+=pca.explained_variance_ratio_[i]\n",
    "    print \"PVE=\",suma,\"Numero de componentes\",i+1\n"
   ]
  },
  {
   "cell_type": "markdown",
   "metadata": {},
   "source": [
    "### $ Hecho\\ el\\ análisis\\ de\\ PCA\\ notamos\\ que\\ un\\ número\\ óptimo\\ de\\ componentes\\ principales\\ es\\ 10\\ ya\\ que\\ estos\\ explican\\ el\\ 96\\ porciento\\ de\\ varianza\\ de\\ los\\ datos\\ sin\\ embargo\\ se\\ puede\\ ver\\ que\\ los\\ dos\\ primeros\\ 2\\ componentes\\ explican\\ un\\ 50\\ porciento\\ de la varianza\\ $"
   ]
  },
  {
   "cell_type": "markdown",
   "metadata": {},
   "source": [
    "# K_mean"
   ]
  },
  {
   "cell_type": "code",
   "execution_count": 15,
   "metadata": {
    "collapsed": true
   },
   "outputs": [],
   "source": [
    "from sklearn import cluster, datasets"
   ]
  },
  {
   "cell_type": "code",
   "execution_count": 16,
   "metadata": {
    "collapsed": false
   },
   "outputs": [
    {
     "name": "stdout",
     "output_type": "stream",
     "text": [
      "inertia 2370689.68678\n"
     ]
    }
   ],
   "source": [
    "k_means = cluster.KMeans(n_clusters=3)#numero de clusters que hara el metodo\n",
    "k_means.fit(WINE[:,1:]) #hace el fit de los clusters\n",
    "print \"inertia\",k_means.inertia_ #suma de la distancia euclidiana de cada punto a su centroide\n"
   ]
  },
  {
   "cell_type": "code",
   "execution_count": 17,
   "metadata": {
    "collapsed": false
   },
   "outputs": [
    {
     "name": "stdout",
     "output_type": "stream",
     "text": [
      "11\n"
     ]
    },
    {
     "data": {
      "text/plain": [
       "[<matplotlib.lines.Line2D at 0x117929dd0>]"
      ]
     },
     "execution_count": 17,
     "metadata": {},
     "output_type": "execute_result"
    },
    {
     "data": {
      "image/png": "[encoded data removed]",
      "text/plain": [
       "<matplotlib.figure.Figure at 0x117733dd0>"
      ]
     },
     "metadata": {},
     "output_type": "display_data"
    }
   ],
   "source": [
    "inertia=[]\n",
    "dif=[]\n",
    "k=20\n",
    "for i in range(k):\n",
    "    k_means = cluster.KMeans(n_clusters=i+1)#numero de clusters que hara el metodo\n",
    "    k_means.fit(WINE[:,1:]) #hace el fit de los clusters\n",
    "    k_means.inertia_\n",
    "    inertia.append(k_means.inertia_) #Arreglo que contiene la suma de distancias de puntos al centroide mas cercano\n",
    "    \n",
    "for i in range(len(inertia)-1):\n",
    "    dif.append(abs(inertia[i]-inertia[i+1])) # arreglo que compara la distancia que hay con k clusters con la de k+1\n",
    "\n",
    "b=0 # variable que busca el primer cambio de inertia a un valor mayor\n",
    "for i in range(len(dif)-1):\n",
    "    a=dif[i]\n",
    "    if(a<dif[i+1] and b==0):\n",
    "        print i\n",
    "        b=1      \n",
    "#plot(inertia,\"-o\")  \n",
    "plot(dif)"
   ]
  },
  {
   "cell_type": "code",
   "execution_count": 18,
   "metadata": {
    "collapsed": false
   },
   "outputs": [],
   "source": [
    "# Aqui estamos buscando\n",
    "corridas=100\n",
    "cambio=zeros(corridas)\n",
    "\n",
    "for j in range(len(cambio)):\n",
    "    \n",
    "    #Haciendo el analisis de clusters\n",
    "    inertia=[]\n",
    "    dif=[]\n",
    "    k=16\n",
    "    for i in range(k):\n",
    "        k_means = cluster.KMeans(n_clusters=i+1)#numero de clusters que hara el metodo\n",
    "        k_means.fit(WINE[:,1:]) #hace el fit de los clusters\n",
    "        k_means.inertia_\n",
    "        inertia.append(k_means.inertia_) #Arreglo que contiene la suma de distancias de puntos al centroide mas cercano\n",
    "   \n",
    "    #mirando como cambia la inertia\n",
    "    for i in range(len(inertia)-1):\n",
    "        dif.append(inertia[i]-inertia[i+1]) # arreglo que compara la distancia que hay con k clusters con la de k+1\n",
    "\n",
    "    #buscando la variable donde hay un cambio menor al 10%, se busca un cabio significativo\n",
    "    for i in range(len(inertia)-1):\n",
    "        a=dif[i]\n",
    "        A=inertia[i]\n",
    "        if(a/A<0.1 and cambio[j]==0):\n",
    "            cambio[j]=i # si el valor se mantiene en 0 significa que la cadena de inertia siempre disminuyo mas del 10%\n",
    "  "
   ]
  },
  {
   "cell_type": "code",
   "execution_count": 30,
   "metadata": {
    "collapsed": false
   },
   "outputs": [
    {
     "data": {
      "text/plain": [
       "[(13.0, 34), (14.0, 23), (12.0, 19), (11.0, 13), (0.0, 4), (10.0, 4), (9.0, 3)]"
      ]
     },
     "execution_count": 30,
     "metadata": {},
     "output_type": "execute_result"
    },
    {
     "data": {
      "image/png": "[encoded data removed]",
      "text/plain": [
       "<matplotlib.figure.Figure at 0x119222cd0>"
      ]
     },
     "metadata": {},
     "output_type": "display_data"
    }
   ],
   "source": [
    "hist(cambio,bins=15) #Aqui estamos buscando el numero en el cual cambia más el numero de inertia a un valor\n",
    "from collections import Counter\n",
    "data = Counter(cambio)\n",
    "data.most_common()   # Returns all unique items and their counts\n"
   ]
  },
  {
   "cell_type": "markdown",
   "metadata": {},
   "source": [
    "#### $ Hemos\\ buscado\\ el\\ numero\\ de\\ clusters\\ para\\ el\\ cual\\ se\\ disminuye\\ la\\ inercia en\\ menos\\ del\\ 10\\ porciento\\ del\\ valor\\ anterior\\,\\ dado\\ que\\ el\\ metodo\\\n",
    " tiene\\ una\\ base\\ de\\ escogencia\\ random\\ buscamos\\ un\\ dato\\ estadistico\\ que\\ de\\ el\\ numero\\ optimo\\ de\\ clusters,\\ por\\ esta\\ razon\\ haciendo\\ una\\ corrida\\ del\\ método\\ k-mean\\ 100\\ veces\\ hemos\\ hallado\\ que\\ con\\ 13\\ clusters\\ se\\ tiene\\ una\\ buena\\ clasificación\\ $"
   ]
  },
  {
   "cell_type": "markdown",
   "metadata": {
    "collapsed": true
   },
   "source": [
    "# Random Forest"
   ]
  },
  {
   "cell_type": "code",
   "execution_count": 20,
   "metadata": {
    "collapsed": true
   },
   "outputs": [],
   "source": [
    "from sklearn.ensemble import RandomForestClassifier"
   ]
  },
  {
   "cell_type": "code",
   "execution_count": 21,
   "metadata": {
    "collapsed": false
   },
   "outputs": [
    {
     "name": "stdout",
     "output_type": "stream",
     "text": [
      "178 (178, 13)\n"
     ]
    }
   ],
   "source": [
    "Clas=WINE[:,0]\n",
    "X=WINE[:,1:]\n",
    "print size(Clas),shape(X)"
   ]
  },
  {
   "cell_type": "markdown",
   "metadata": {},
   "source": [
    "\n",
    "$ Queremos\\ predecir\\ la\\ clasificación\\ del\\ vino\\ en\\ los\\ tipos\\ 1,\\ 2\\ y\\ 3\\ $"
   ]
  },
  {
   "cell_type": "code",
   "execution_count": 22,
   "metadata": {
    "collapsed": false
   },
   "outputs": [
    {
     "name": "stdout",
     "output_type": "stream",
     "text": [
      "[ 1.  1.  1.  1.  1.  1.  1.  1.  1.  1.  1.  1.  1.  1.  1.  1.  1.  1.\n",
      "  1.  1.  1.  1.  1.  1.  1.  1.  1.  1.  1.  1.  1.  1.  1.  1.  1.  1.\n",
      "  1.  1.  1.  1.  1.  1.  1.  1.  1.  1.  1.  1.  1.  1.]\n"
     ]
    }
   ],
   "source": [
    "rf = RandomForestClassifier(n_estimators=50)\n",
    "rf.fit(X[:50], Clas[:50])\n",
    "print Clas[:50]"
   ]
  },
  {
   "cell_type": "code",
   "execution_count": 23,
   "metadata": {
    "collapsed": false
   },
   "outputs": [
    {
     "data": {
      "text/plain": [
       "[<matplotlib.lines.Line2D at 0x118b931d0>]"
      ]
     },
     "execution_count": 23,
     "metadata": {},
     "output_type": "execute_result"
    },
    {
     "data": {
      "image/png": "[encoded data removed]",
      "text/plain": [
       "<matplotlib.figure.Figure at 0x118b40c10>"
      ]
     },
     "metadata": {},
     "output_type": "display_data"
    }
   ],
   "source": [
    "prediction = rf.predict(X[150:]) #mira como se comporta del dato 200 para adelante\n",
    "plt.scatter(Clas[150:], prediction)\n",
    "plt.plot(Clas)"
   ]
  },
  {
   "cell_type": "code",
   "execution_count": 24,
   "metadata": {
    "collapsed": false
   },
   "outputs": [
    {
     "data": {
      "text/plain": [
       "(array([ 59.,   0.,   0.,   0.,   0.,  71.,   0.,   0.,   0.,  48.]),\n",
       " array([ 1. ,  1.2,  1.4,  1.6,  1.8,  2. ,  2.2,  2.4,  2.6,  2.8,  3. ]),\n",
       " <a list of 10 Patch objects>)"
      ]
     },
     "execution_count": 24,
     "metadata": {},
     "output_type": "execute_result"
    },
    {
     "data": {
      "image/png": "[encoded data removed]",
      "text/plain": [
       "<matplotlib.figure.Figure at 0x118d79210>"
      ]
     },
     "metadata": {},
     "output_type": "display_data"
    }
   ],
   "source": [
    "hist(Clas)"
   ]
  },
  {
   "cell_type": "code",
   "execution_count": null,
   "metadata": {
    "collapsed": true
   },
   "outputs": [],
   "source": []
  }
 ],
 "metadata": {
  "kernelspec": {
   "display_name": "Python 2",
   "language": "python",
   "name": "python2"
  },
  "language_info": {
   "codemirror_mode": {
    "name": "ipython",
    "version": 2
   },
   "file_extension": ".py",
   "mimetype": "text/x-python",
   "name": "python",
   "nbconvert_exporter": "python",
   "pygments_lexer": "ipython2",
   "version": "2.7.11"
  }
 },
 "nbformat": 4,
 "nbformat_minor": 0
}
