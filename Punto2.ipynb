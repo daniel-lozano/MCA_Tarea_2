{
 "cells": [
  {
   "cell_type": "code",
   "execution_count": 120,
   "metadata": {
    "collapsed": false
   },
   "outputs": [
    {
     "name": "stdout",
     "output_type": "stream",
     "text": [
      "Populating the interactive namespace from numpy and matplotlib\n"
     ]
    },
    {
     "name": "stderr",
     "output_type": "stream",
     "text": [
      "WARNING: pylab import has clobbered these variables: ['gamma', 'grid']\n",
      "`%matplotlib` prevents importing * from pylab and numpy\n"
     ]
    }
   ],
   "source": [
    "%pylab inline\n",
    "import pandas as pd\n",
    "import seaborn as sns\n",
    "from sklearn.linear_model import LinearRegression #para hacer regresiones lineales\n",
    "from sklearn.cross_validation import train_test_split #para separar datos entre datos de test y entrenamiento\n",
    "from sklearn import metrics # para medir (metricas) errores, etc."
   ]
  },
  {
   "cell_type": "code",
   "execution_count": 121,
   "metadata": {
    "collapsed": false
   },
   "outputs": [
    {
     "name": "stdout",
     "output_type": "stream",
     "text": [
      "['1', '14.23', '1.71', '2.43', '15.6', '127', '2.8', '3.06', '.28', '2.29', '5.64', '1.04', '3.92', '1065'] 14\n",
      "1.0\n",
      "Aqui \n"
     ]
    }
   ],
   "source": [
    "FILE=open(\"wine.dat\").read().split('\\n')\n",
    "print FILE[0].split(','), size(FILE[0].split(','))\n",
    "print float(FILE[0].split(',')[0])\n",
    "print \"Aqui\",(FILE[-1])"
   ]
  },
  {
   "cell_type": "code",
   "execution_count": 122,
   "metadata": {
    "collapsed": false
   },
   "outputs": [
    {
     "name": "stdout",
     "output_type": "stream",
     "text": [
      "14\n",
      "['1', '14.23', '1.71', '2.43', '15.6', '127', '2.8', '3.06', '.28', '2.29', '5.64', '1.04', '3.92', '1065']\n",
      "179\n"
     ]
    }
   ],
   "source": [
    "WINE=zeros([len(FILE)-1,size(FILE[0].split(',')),])\n",
    "print len(FILE[0].split(','))\n",
    "print FILE[0].split(',')\n",
    "print len(FILE)"
   ]
  },
  {
   "cell_type": "code",
   "execution_count": 123,
   "metadata": {
    "collapsed": false
   },
   "outputs": [],
   "source": [
    "for i in range(len(FILE)-1):\n",
    "    for j in range(len(FILE[0].split(','))):\n",
    "        WINE[i][j]=float(FILE[i].split(',')[j])"
   ]
  },
  {
   "cell_type": "code",
   "execution_count": 124,
   "metadata": {
    "collapsed": false
   },
   "outputs": [
    {
     "name": "stdout",
     "output_type": "stream",
     "text": [
      "[   3.     14.13    4.1     2.74   24.5    96.      2.05    0.76    0.56\n",
      "    1.35    9.2     0.61    1.6   560.  ]\n",
      "(178, 14)\n"
     ]
    }
   ],
   "source": [
    "print WINE[-1,:]\n",
    "print shape(WINE)"
   ]
  },
  {
   "cell_type": "markdown",
   "metadata": {},
   "source": [
    "$ 1)\\ Type\\ \\\\ \n",
    "2)\\ Alcohol\\ \\\\\n",
    "3)\\ Malic acid\\  \\\\\n",
    "4)\\ Ash\\  \\\\\n",
    "5)\\ Alcalinity\\ of\\ ash\\ \\\\\n",
    "6)\\ Magnesium\\ \\\\\n",
    "7)\\ Total phenols\\ \\\\\n",
    "8)\\ Flavanoids\\ \\\\\n",
    "9)\\ Nonflavanoid phenols\\ \\\\ \n",
    "10)\\ Proanthocyanins\\ \\\\\n",
    "11)\\ Color intensity\\ \\\\\n",
    "12)\\ Hue\\ \\\\\n",
    "13)\\ OD280/OD315 of diluted wines\\ \\\\\n",
    "14)\\ Proline\\ $ "
   ]
  },
  {
   "cell_type": "code",
   "execution_count": 125,
   "metadata": {
    "collapsed": false
   },
   "outputs": [
    {
     "name": "stdout",
     "output_type": "stream",
     "text": [
      "0.655359730463\n",
      "1.0\n"
     ]
    }
   ],
   "source": [
    "print np.var(WINE[:,1])\n",
    "a=np.sqrt(np.var(WINE[:,1]))\n",
    "print np.var(WINE[:,1]/a)"
   ]
  },
  {
   "cell_type": "markdown",
   "metadata": {},
   "source": [
    "# PCA"
   ]
  },
  {
   "cell_type": "code",
   "execution_count": 126,
   "metadata": {
    "collapsed": true
   },
   "outputs": [],
   "source": [
    "#Paquete de PCA\n",
    "from sklearn.decomposition import PCA\n",
    "pca = PCA()#n_components=len(WINE[:,0]))"
   ]
  },
  {
   "cell_type": "code",
   "execution_count": 127,
   "metadata": {
    "collapsed": false
   },
   "outputs": [
    {
     "name": "stdout",
     "output_type": "stream",
     "text": [
      "(178, 13) (178, 14)\n",
      "1.0 -8.38280755672e-16\n",
      "1.0 -1.19754393667e-16\n",
      "1.0 -8.37033314071e-16\n",
      "1.0 -3.99181312225e-17\n",
      "1.0 -3.99181312225e-17\n",
      "1.0 0.0\n",
      "1.0 -3.99181312225e-16\n",
      "1.0 3.59263181002e-16\n",
      "1.0 -1.39713459279e-16\n",
      "1.0 2.4948832014e-17\n",
      "1.0 1.99590656112e-16\n",
      "1.0 3.1934504978e-16\n",
      "1.0 -1.5967252489e-16\n"
     ]
    }
   ],
   "source": [
    "W=zeros([len(WINE[:,0]),len(WINE[0,:])-1])\n",
    "print shape(W),shape(WINE)\n",
    "\n",
    "for i in range(len(W[0,:])):\n",
    "    W[:,i]=WINE[:,i+1]-np.mean(WINE[:,i+1])\n",
    "    W[:,i]=W[:,i]/np.sqrt(np.var(W[:,i])) # creando arreglo de varianza=1 y media aproximadamente 0\n",
    "    \n",
    "    print np.sqrt(np.var(W[:,i])),np.mean(W[:,i]) #varianza"
   ]
  },
  {
   "cell_type": "code",
   "execution_count": 128,
   "metadata": {
    "collapsed": false
   },
   "outputs": [
    {
     "data": {
      "text/plain": [
       "PCA(copy=True, n_components=None, whiten=False)"
      ]
     },
     "execution_count": 128,
     "metadata": {},
     "output_type": "execute_result"
    }
   ],
   "source": [
    "pca.fit(W)#se hace el analisis de PCA"
   ]
  },
  {
   "cell_type": "code",
   "execution_count": 129,
   "metadata": {
    "collapsed": false
   },
   "outputs": [
    {
     "data": {
      "text/plain": [
       "(13, 13)"
      ]
     },
     "execution_count": 129,
     "metadata": {},
     "output_type": "execute_result"
    }
   ],
   "source": [
    "shape(pca.components_)#Hay 13 componentes ya que hay 13 caracteristicas, Min (178-1,13)=13"
   ]
  },
  {
   "cell_type": "code",
   "execution_count": 130,
   "metadata": {
    "collapsed": false
   },
   "outputs": [
    {
     "data": {
      "text/plain": [
       "<matplotlib.text.Text at 0x118f1f2d0>"
      ]
     },
     "execution_count": 130,
     "metadata": {},
     "output_type": "execute_result"
    },
    {
     "data": {
      "image/png": "[encoded data removed]",
      "text/plain": [
       "<matplotlib.figure.Figure at 0x1183a4790>"
      ]
     },
     "metadata": {},
     "output_type": "display_data"
    }
   ],
   "source": [
    "plot(pca.explained_variance_ratio_,\"-o\")\n",
    "xlabel(\"# de componente\")\n",
    "ylabel(\"Cuanto explica cada componente\")"
   ]
  },
  {
   "cell_type": "code",
   "execution_count": 131,
   "metadata": {
    "collapsed": false
   },
   "outputs": [
    {
     "data": {
      "text/plain": [
       "<matplotlib.text.Text at 0x118c2a1d0>"
      ]
     },
     "execution_count": 131,
     "metadata": {},
     "output_type": "execute_result"
    },
    {
     "data": {
      "image/png": "[encoded data removed]",
      "text/plain": [
       "<matplotlib.figure.Figure at 0x118f1b710>"
      ]
     },
     "metadata": {},
     "output_type": "display_data"
    }
   ],
   "source": [
    "Suma=zeros(len(pca.explained_variance_ratio_))\n",
    "suma=0\n",
    "for i in range(len(Suma)):\n",
    "    suma+=pca.explained_variance_ratio_[i]\n",
    "    Suma[i]=suma\n",
    "\n",
    "plot(Suma,\"-o\")    \n",
    "xlabel(\" $ No.\\ de\\ componentes\\ tomados\\ $\",size=15)\n",
    "ylabel(\"$ Cuanto\\ explica\\ un\\ conjunto\\ de\\ comp.\\ $\",size=15)"
   ]
  },
  {
   "cell_type": "code",
   "execution_count": 132,
   "metadata": {
    "collapsed": false
   },
   "outputs": [
    {
     "name": "stdout",
     "output_type": "stream",
     "text": [
      "[ 0.36198848  0.1920749   0.11123631  0.0706903   0.06563294  0.04935823\n",
      "  0.04238679  0.02680749  0.02222153  0.01930019  0.01736836  0.01298233\n",
      "  0.00795215] \n",
      "\n",
      "[ 4.70585025  2.49697373  1.44607197  0.91897392  0.85322818  0.64165703\n",
      "  0.55102831  0.34849736  0.28887994  0.25090248  0.22578864  0.16877023\n",
      "  0.10337794]\n"
     ]
    }
   ],
   "source": [
    "print pca.explained_variance_ratio_,\"\\n\"\n",
    "print pca.explained_variance_"
   ]
  },
  {
   "cell_type": "code",
   "execution_count": 133,
   "metadata": {
    "collapsed": false,
    "scrolled": true
   },
   "outputs": [
    {
     "name": "stdout",
     "output_type": "stream",
     "text": [
      "PVE= 0.361988480999 Numero de componentes 1\n",
      "PVE= 0.554063383569 Numero de componentes 2\n",
      "PVE= 0.665299688932 Numero de componentes 3\n",
      "PVE= 0.735989990759 Numero de componentes 4\n",
      "PVE= 0.801622927555 Numero de componentes 5\n",
      "PVE= 0.850981160748 Numero de componentes 6\n",
      "PVE= 0.893367953974 Numero de componentes 7\n",
      "PVE= 0.920175443458 Numero de componentes 8\n",
      "PVE= 0.942396977506 Numero de componentes 9\n",
      "PVE= 0.961697168445 Numero de componentes 10\n",
      "PVE= 0.979065525345 Numero de componentes 11\n",
      "PVE= 0.992047851101 Numero de componentes 12\n",
      "PVE= 1.0 Numero de componentes 13\n"
     ]
    }
   ],
   "source": [
    "suma=0\n",
    "for i in range(len(pca.explained_variance_ratio_)):\n",
    "    suma+=pca.explained_variance_ratio_[i]\n",
    "    print \"PVE=\",suma,\"Numero de componentes\",i+1\n"
   ]
  },
  {
   "cell_type": "markdown",
   "metadata": {},
   "source": [
    "### $ Hecho\\ el\\ análisis\\ de\\ PCA\\ notamos\\ que\\ un\\ número\\ óptimo\\ de\\ componentes\\ principales\\ es\\ 10\\ ya\\ que\\ estos\\ explican\\ el\\ 96\\ porciento\\ de\\ varianza\\ de\\ los\\ datos\\ sin\\ embargo\\ se\\ puede\\ ver\\ que\\ los\\ dos\\ primeros\\ 2\\ componentes\\ explican\\ un\\ 50\\ porciento\\ de la varianza\\ $"
   ]
  },
  {
   "cell_type": "markdown",
   "metadata": {},
   "source": [
    "# K_mean"
   ]
  },
  {
   "cell_type": "code",
   "execution_count": 134,
   "metadata": {
    "collapsed": true
   },
   "outputs": [],
   "source": [
    "from sklearn import cluster, datasets"
   ]
  },
  {
   "cell_type": "code",
   "execution_count": 135,
   "metadata": {
    "collapsed": false
   },
   "outputs": [
    {
     "name": "stdout",
     "output_type": "stream",
     "text": [
      "inertia 1277.92848884\n"
     ]
    }
   ],
   "source": [
    "k_means = cluster.KMeans(n_clusters=3)#numero de clusters que hara el metodo\n",
    "k_means.fit(W) #(WINE[:,1:]) #hace el fit de los clusters\n",
    "print \"inertia\",k_means.inertia_ #suma de la distancia euclidiana de cada punto a su centroide\n"
   ]
  },
  {
   "cell_type": "code",
   "execution_count": 136,
   "metadata": {
    "collapsed": false
   },
   "outputs": [
    {
     "name": "stdout",
     "output_type": "stream",
     "text": [
      "4\n"
     ]
    },
    {
     "data": {
      "text/plain": [
       "[<matplotlib.lines.Line2D at 0x118d564d0>]"
      ]
     },
     "execution_count": 136,
     "metadata": {},
     "output_type": "execute_result"
    },
    {
     "data": {
      "image/png": "[encoded data removed]",
      "text/plain": [
       "<matplotlib.figure.Figure at 0x118b57850>"
      ]
     },
     "metadata": {},
     "output_type": "display_data"
    }
   ],
   "source": [
    "inertia=[]\n",
    "dif=[]\n",
    "k=20\n",
    "for i in range(k):\n",
    "    k_means = cluster.KMeans(n_clusters=i+1)#numero de clusters que hara el metodo\n",
    "    k_means.fit(W)#(WINE[:,1:]) #hace el fit de los clusters\n",
    "    k_means.inertia_\n",
    "    inertia.append(k_means.inertia_) #Arreglo que contiene la suma de distancias de puntos al centroide mas cercano\n",
    "    \n",
    "for i in range(len(inertia)-1):\n",
    "    dif.append(abs(inertia[i]-inertia[i+1])) # arreglo que compara la distancia que hay con k clusters con la de k+1\n",
    "\n",
    "b=0 # variable que busca el primer cambio de inertia a un valor mayor\n",
    "for i in range(len(dif)-1):\n",
    "    a=dif[i]\n",
    "    if(a<dif[i+1] and b==0):\n",
    "        print i\n",
    "        b=1      \n",
    "#plot(inertia,\"-o\")  \n",
    "plot(dif)"
   ]
  },
  {
   "cell_type": "code",
   "execution_count": 139,
   "metadata": {
    "collapsed": false
   },
   "outputs": [],
   "source": [
    "# Aqui estamos buscando\n",
    "corridas=100\n",
    "cambio=zeros(corridas)\n",
    "\n",
    "for j in range(len(cambio)):\n",
    "    \n",
    "    #Haciendo el analisis de clusters\n",
    "    inertia=[]\n",
    "    dif=[]\n",
    "    k=16\n",
    "    for i in range(k):\n",
    "        k_means = cluster.KMeans(n_clusters=i+1)#numero de clusters que hara el metodo\n",
    "        k_means.fit(W)#(WINE[:,1:]) #hace el fit de los clusters\n",
    "        k_means.inertia_\n",
    "        inertia.append(k_means.inertia_) #Arreglo que contiene la suma de distancias de puntos al centroide mas cercano\n",
    "   \n",
    "    #mirando como cambia la inertia\n",
    "    for i in range(len(inertia)-1):\n",
    "        dif.append(inertia[i]-inertia[i+1]) # arreglo que compara la distancia que hay con k clusters con la de k+1\n",
    "\n",
    "    #buscando la variable donde hay un cambio menor al 10%, se busca un cabio significativo\n",
    "    for i in range(len(inertia)-1):\n",
    "        a=dif[i]\n",
    "        A=inertia[i]\n",
    "        if(a/A<0.05 and cambio[j]==0):\n",
    "            cambio[j]=i # si el valor se mantiene en 0 significa que la cadena de inertia siempre disminuyo mas del 10%\n",
    "  "
   ]
  },
  {
   "cell_type": "code",
   "execution_count": 140,
   "metadata": {
    "collapsed": false
   },
   "outputs": [
    {
     "data": {
      "text/plain": [
       "[(5.0, 33), (6.0, 30), (4.0, 19), (7.0, 11), (3.0, 5), (8.0, 2)]"
      ]
     },
     "execution_count": 140,
     "metadata": {},
     "output_type": "execute_result"
    },
    {
     "data": {
      "image/png": "[encoded data removed]",
      "text/plain": [
       "<matplotlib.figure.Figure at 0x118f147d0>"
      ]
     },
     "metadata": {},
     "output_type": "display_data"
    }
   ],
   "source": [
    "hist(cambio,bins=15) #Aqui estamos buscando el numero en el cual cambia más el numero de inertia a un valor\n",
    "from collections import Counter\n",
    "data = Counter(cambio)\n",
    "data.most_common()   # Returns all unique items and their counts\n"
   ]
  },
  {
   "cell_type": "markdown",
   "metadata": {},
   "source": [
    "#### $ Hemos\\ buscado\\ el\\ numero\\ de\\ clusters\\ para\\ el\\ cual\\ se\\ disminuye\\ absolutamente\\ la\\ inercia en\\ menos\\ del\\ 5\\ porciento\\ del\\ valor\\ anterior,\\ dado\\ que\\ el\\ metodo\\ tiene\\ una\\ base\\ de\\ escogencia\\ random\\ buscamos\\ un\\ dato\\ estadistico\\ que\\ de\\ el\\ numero\\ optimo\\ de\\ clusters,\\ por\\ esta\\ razon\\ haciendo\\ una\\ corrida\\ del\\ método\\ k-mean\\ 100\\ veces\\ hemos\\ hallado\\ que\\ con\\ 5\\ o\\ 6\\ clusters\\ se\\ tiene\\ una\\ buena\\ clasificación. \\\\ Aunque\\ sabemos\\ que\\ tenemos\\ solo\\ 3\\ tipos\\ de\\ vino\\ esta\\ clasifiacion\\ puede\\ ocurrir\\ debido\\ a\\ que\\ se\\ encuentran\\ subdiviciones\\ en\\ un\\ tipo\\ de\\ vino.\\ $"
   ]
  },
  {
   "cell_type": "markdown",
   "metadata": {
    "collapsed": true
   },
   "source": [
    "# Random Forest"
   ]
  },
  {
   "cell_type": "code",
   "execution_count": 141,
   "metadata": {
    "collapsed": true
   },
   "outputs": [],
   "source": [
    "from sklearn.ensemble import RandomForestClassifier"
   ]
  },
  {
   "cell_type": "code",
   "execution_count": 142,
   "metadata": {
    "collapsed": false
   },
   "outputs": [
    {
     "name": "stdout",
     "output_type": "stream",
     "text": [
      "178 (178, 13)\n"
     ]
    }
   ],
   "source": [
    "Clas=WINE[:,0]\n",
    "X=WINE[:,1:]\n",
    "print size(Clas),shape(X)"
   ]
  },
  {
   "cell_type": "markdown",
   "metadata": {},
   "source": [
    "\n",
    "$ Queremos\\ predecir\\ la\\ clasificación\\ del\\ vino\\ en\\ los\\ tipos\\ 1,\\ 2\\ y\\ 3\\ $"
   ]
  },
  {
   "cell_type": "code",
   "execution_count": 143,
   "metadata": {
    "collapsed": false
   },
   "outputs": [
    {
     "data": {
      "text/plain": [
       "[<matplotlib.lines.Line2D at 0x11a18b450>]"
      ]
     },
     "execution_count": 143,
     "metadata": {},
     "output_type": "execute_result"
    },
    {
     "data": {
      "image/png": "[encoded data removed]",
      "text/plain": [
       "<matplotlib.figure.Figure at 0x118e21110>"
      ]
     },
     "metadata": {},
     "output_type": "display_data"
    }
   ],
   "source": [
    "from sklearn.cross_validation import train_test_split\n",
    "Xtrain,Xtest,Ytrain,Ytest=train_test_split(WINE[:,1:], WINE[:,0])#separando los dato\n",
    "plot(Ytrain) #mirando si los datos han sido tomados al azar "
   ]
  },
  {
   "cell_type": "code",
   "execution_count": 144,
   "metadata": {
    "collapsed": false
   },
   "outputs": [
    {
     "data": {
      "text/plain": [
       "RandomForestClassifier(bootstrap=True, class_weight=None, criterion='gini',\n",
       "            max_depth=None, max_features='auto', max_leaf_nodes=None,\n",
       "            min_samples_leaf=1, min_samples_split=2,\n",
       "            min_weight_fraction_leaf=0.0, n_estimators=4, n_jobs=1,\n",
       "            oob_score=False, random_state=None, verbose=0,\n",
       "            warm_start=False)"
      ]
     },
     "execution_count": 144,
     "metadata": {},
     "output_type": "execute_result"
    }
   ],
   "source": [
    "rf = RandomForestClassifier(n_estimators=4)\n",
    "rf.fit(Xtrain,Ytrain)\n"
   ]
  },
  {
   "cell_type": "code",
   "execution_count": 145,
   "metadata": {
    "collapsed": false
   },
   "outputs": [
    {
     "name": "stdout",
     "output_type": "stream",
     "text": [
      "45\n",
      "3\n"
     ]
    }
   ],
   "source": [
    "Ypredict=rf.predict(Xtest)\n",
    "print len(Ypredict)\n",
    "error=0\n",
    "for i in range(len(Ypredict)):\n",
    "    if(Ypredict[i]!=Ytest[i]):\n",
    "        error+=1\n",
    "print error      #medida de cuantas veces erra en la clasificacion  "
   ]
  },
  {
   "cell_type": "code",
   "execution_count": 146,
   "metadata": {
    "collapsed": false
   },
   "outputs": [],
   "source": [
    "NumeroArboles=20\n",
    "Error=[]\n",
    "for i in range(1,NumeroArboles):\n",
    "    rf = RandomForestClassifier(n_estimators=i)\n",
    "    rf.fit(Xtrain,Ytrain)\n",
    "    Ypredict=rf.predict(Xtest)\n",
    "    error=0\n",
    "    for j in range(len(Ypredict)):\n",
    "        if(Ypredict[j]!=Ytest[j]):\n",
    "            error+=1.0\n",
    "    Error.append((error))#/len(Ypredict))*100)"
   ]
  },
  {
   "cell_type": "code",
   "execution_count": 147,
   "metadata": {
    "collapsed": false
   },
   "outputs": [
    {
     "data": {
      "text/plain": [
       "<matplotlib.text.Text at 0x118f14510>"
      ]
     },
     "execution_count": 147,
     "metadata": {},
     "output_type": "execute_result"
    },
    {
     "data": {
      "image/png": "[encoded data removed]",
      "text/plain": [
       "<matplotlib.figure.Figure at 0x119f1f4d0>"
      ]
     },
     "metadata": {},
     "output_type": "display_data"
    }
   ],
   "source": [
    "figsize(15,5)\n",
    "plot(Error,\"-o\")\n",
    "xlabel(\"Numero de Arboles\",size=15)\n",
    "ylabel(\"Numero de clasificaciones erroneas\",size=15)"
   ]
  },
  {
   "cell_type": "code",
   "execution_count": 164,
   "metadata": {
    "collapsed": true
   },
   "outputs": [],
   "source": [
    "NC=200\n",
    "ErrorZero=[]\n",
    "for k in range(NC):\n",
    "    NumeroArboles=20\n",
    "    b=0\n",
    "    for i in range(1,NumeroArboles):\n",
    "        rf = RandomForestClassifier(n_estimators=i)\n",
    "        rf.fit(Xtrain,Ytrain)\n",
    "        Ypredict=rf.predict(Xtest)\n",
    "        error=0\n",
    "        for j in range(len(Ypredict)):\n",
    "            if(Ypredict[j]!=Ytest[j]):\n",
    "                error+=1.0\n",
    "                \n",
    "        if(error<=2 and b==0):\n",
    "            ErrorZero.append(i)#el arbol donde ocurrio \n",
    "            b=1"
   ]
  },
  {
   "cell_type": "code",
   "execution_count": 167,
   "metadata": {
    "collapsed": false
   },
   "outputs": [
    {
     "name": "stdout",
     "output_type": "stream",
     "text": [
      "0.0444444444444\n"
     ]
    },
    {
     "data": {
      "image/png": "[encoded data removed]",
      "text/plain": [
       "<matplotlib.figure.Figure at 0x11bc64250>"
      ]
     },
     "metadata": {},
     "output_type": "display_data"
    }
   ],
   "source": [
    "hist(ErrorZero,bins=15)\n",
    "print 2.0/len(Ypredict)"
   ]
  },
  {
   "cell_type": "markdown",
   "metadata": {},
   "source": [
    "Como podemos ver, el numero de arboles en el cúal se clasifican el 95% de puntos correctamente estadisticamente es 3.\n"
   ]
  },
  {
   "cell_type": "markdown",
   "metadata": {
    "collapsed": true
   },
   "source": [
    "# Support Vector Machine "
   ]
  },
  {
   "cell_type": "code",
   "execution_count": 168,
   "metadata": {
    "collapsed": true
   },
   "outputs": [],
   "source": [
    "import numpy as np\n",
    "import matplotlib.pyplot as plt\n",
    "from sklearn import svm #SVM\n",
    "from sklearn.datasets import make_classification\n",
    "from sklearn.datasets import make_blobs, make_moons, make_circles\n",
    "from sklearn.cross_validation import train_test_split\n",
    "%matplotlib inline"
   ]
  },
  {
   "cell_type": "code",
   "execution_count": 169,
   "metadata": {
    "collapsed": false
   },
   "outputs": [],
   "source": [
    "X_train, X_test, Y_train, Y_test = train_test_split(W,WINE[:,0], test_size=.4)\n"
   ]
  },
  {
   "cell_type": "code",
   "execution_count": 170,
   "metadata": {
    "collapsed": false
   },
   "outputs": [
    {
     "name": "stdout",
     "output_type": "stream",
     "text": [
      "[  1.00000000e-02   1.62377674e-02   2.63665090e-02   4.28133240e-02\n",
      "   6.95192796e-02   1.12883789e-01   1.83298071e-01   2.97635144e-01\n",
      "   4.83293024e-01   7.84759970e-01   1.27427499e+00   2.06913808e+00\n",
      "   3.35981829e+00   5.45559478e+00   8.85866790e+00   1.43844989e+01\n",
      "   2.33572147e+01   3.79269019e+01   6.15848211e+01   1.00000000e+02]\n",
      "The best gamma={'C': 0.52726315789473688, 'gamma': 0.01}, score=1.0\n"
     ]
    }
   ],
   "source": [
    "from sklearn.cross_validation import ShuffleSplit\n",
    "from sklearn.grid_search import GridSearchCV\n",
    "Class=WINE[:,0]\n",
    "gamma_range = np.logspace(-2, 2, 20)\n",
    "C_range=np.linspace(0.001,10,20)\n",
    "print gamma_range\n",
    "param_grid = dict(gamma=gamma_range,C=C_range)\n",
    "cv = ShuffleSplit(len(Y_train), n_iter=10, test_size=0.1)\n",
    "grid = GridSearchCV(svm.SVC(kernel='rbf'), param_grid=param_grid, cv=cv)\n",
    "grid.fit(X_train,Y_train)\n",
    "\n",
    "print(\"The best gamma={}, score={}\".format(grid.best_params_, grid.best_score_))"
   ]
  },
  {
   "cell_type": "code",
   "execution_count": 171,
   "metadata": {
    "collapsed": false
   },
   "outputs": [
    {
     "name": "stdout",
     "output_type": "stream",
     "text": [
      "0.527263157895\n"
     ]
    }
   ],
   "source": [
    "print grid.best_params_['C']"
   ]
  },
  {
   "cell_type": "code",
   "execution_count": 172,
   "metadata": {
    "collapsed": false
   },
   "outputs": [
    {
     "name": "stdout",
     "output_type": "stream",
     "text": [
      "0.0416666666667\n"
     ]
    }
   ],
   "source": [
    "#Llamando los mejores parametros segun el diccionario\n",
    "C=grid.best_params_['C']\n",
    "gamma =grid.best_params_['gamma'] \n",
    "\n",
    "kernel_svc = svm.SVC(C=C, kernel='rbf', gamma=gamma)\n",
    "kernel_svc.fit(X_train,Y_train)\n",
    "Y_predict=kernel_svc.predict(X_test)\n",
    "n_bad = 1.0 * len(Y_predict[Y_predict != Y_test])\n",
    "n_total = 1.0 * len(Y_predict)\n",
    "eff = n_bad / n_total\n",
    "print eff"
   ]
  },
  {
   "cell_type": "markdown",
   "metadata": {},
   "source": [
    "## Ahora miremos como se ve esta clasificacion con contornos si proyectamos nuestros puntos en 2 dimensiones"
   ]
  },
  {
   "cell_type": "code",
   "execution_count": 226,
   "metadata": {
    "collapsed": false
   },
   "outputs": [
    {
     "name": "stdout",
     "output_type": "stream",
     "text": [
      "(56, 57) (56, 57)\n",
      "-3.67916223404 4.37137213955\n"
     ]
    }
   ],
   "source": [
    "h = 0.1\n",
    "\n",
    "x_min, x_max = W[:, 0].min() - .5, W[:, 0].max() + .5\n",
    "y_min, y_max = W[:, 1].min() - .5, W[:, 1].max() + .5\n",
    "z_min, z_max = W[:, 2].min() - .5, W[:, 2].max() + .5\n",
    "w_min, w_max = W[:, 3].min() - .5, W[:, 3].max() + .5\n",
    "\n",
    "xx, yy = np.meshgrid(np.arange(x_min, x_max, h),\n",
    "                         np.arange(y_min, y_max, h))\n",
    "\n",
    "#zz, ww = np.meshgrid(np.arange(z_min, z_max, h),\n",
    "#                         np.arange(w_min, w_max, h))\n",
    "print xx.shape,yy.shape\n",
    "\n",
    "mini=0.0\n",
    "maxi=0.0\n",
    "\n",
    "for i in range(len(W[0,:])):\n",
    "\n",
    "    if(mini>=min(W[:,i])):\n",
    "        mini=min(W[:,i])\n",
    "    if(maxi<=max(W[:,i])):\n",
    "        maxi=max(W[:,i])\n",
    "        \n",
    "print mini,maxi  \n",
    "ww,zz=np.meshgrid(np.arange(mini, maxi, h),np.arange(mini, maxi, h))\n"
   ]
  },
  {
   "cell_type": "code",
   "execution_count": 225,
   "metadata": {
    "collapsed": false
   },
   "outputs": [
    {
     "name": "stdout",
     "output_type": "stream",
     "text": [
      "[[ 0.27433208  0.65240994  0.57802855]] [ 1.]\n",
      "[ 2.  3.  2.  2.  1.  3.  3.  2.  1.  3.  1.  1.  2.  2.  1.  2.  2.  1.\n",
      "  2.  3.  2.  2.  2.  1.  2.  1.  1.  2.  3.  2.  1.  1.  3.  3.  2.  2.\n",
      "  2.  1.  1.  1.  3.  1.  2.  3.  2.  2.  1.  3.  1.  3.  1.  1.  3.  2.\n",
      "  3.  1.  3.  3.  1.  3.  3.  2.  2.  2.  3.  2.  1.  2.  2.  1.  1.  1.]\n"
     ]
    },
    {
     "name": "stderr",
     "output_type": "stream",
     "text": [
      "/Users/daniellozano/anaconda/lib/python2.7/site-packages/sklearn/utils/validation.py:386: DeprecationWarning: Passing 1d arrays as data is deprecated in 0.17 and willraise ValueError in 0.19. Reshape your data either using X.reshape(-1, 1) if your data has a single feature or X.reshape(1, -1) if it contains a single sample.\n",
      "  DeprecationWarning)\n",
      "/Users/daniellozano/anaconda/lib/python2.7/site-packages/sklearn/utils/validation.py:386: DeprecationWarning: Passing 1d arrays as data is deprecated in 0.17 and willraise ValueError in 0.19. Reshape your data either using X.reshape(-1, 1) if your data has a single feature or X.reshape(1, -1) if it contains a single sample.\n",
      "  DeprecationWarning)\n"
     ]
    },
    {
     "data": {
      "text/plain": [
       "'\\n    np.c_[zz.ravel(), zz.ravel(),\\n                                       ww.ravel(), zz.ravel(),\\n                                       ww.ravel(), zz.ravel(),\\n                                       ww.ravel(), zz.ravel(),\\n                                       ww.ravel(), zz.ravel(),\\n                                       ww.ravel(), zz.ravel(),\\n                                       ww.ravel()]) # distancia al plano separador\\nprint Z,Z.shape\\n#Z = Z.reshape(zz.shape)\\n#cm = plt.cm.RdBu\\n#plt.contourf(xx, yy, Z, cmap=cm, alpha=.8) # el signo menos viene por razones puramente esteticas del plot.\\n'"
      ]
     },
     "execution_count": 225,
     "metadata": {},
     "output_type": "execute_result"
    }
   ],
   "source": [
    "Z = kernel_svc.decision_function(W[4,:])\n",
    "Z1= kernel_svc.predict(W[4,:])\n",
    "print Z,Z1\n",
    "\n",
    "\n",
    "'''\n",
    "    np.c_[zz.ravel(), zz.ravel(),\n",
    "                                       ww.ravel(), zz.ravel(),\n",
    "                                       ww.ravel(), zz.ravel(),\n",
    "                                       ww.ravel(), zz.ravel(),\n",
    "                                       ww.ravel(), zz.ravel(),\n",
    "                                       ww.ravel(), zz.ravel(),\n",
    "                                       ww.ravel()]) # distancia al plano separador\n",
    "print Z,Z.shape\n",
    "#Z = Z.reshape(zz.shape)\n",
    "#cm = plt.cm.RdBu\n",
    "#plt.contourf(xx, yy, Z, cmap=cm, alpha=.8) # el signo menos viene por razones puramente esteticas del plot.\n",
    "'''\n",
    "\n"
   ]
  },
  {
   "cell_type": "code",
   "execution_count": 176,
   "metadata": {
    "collapsed": false
   },
   "outputs": [
    {
     "data": {
      "text/plain": [
       "<matplotlib.collections.PathCollection at 0x11c8cfed0>"
      ]
     },
     "execution_count": 176,
     "metadata": {},
     "output_type": "execute_result"
    },
    {
     "data": {
      "image/png": "[encoded data removed]",
      "text/plain": [
       "<matplotlib.figure.Figure at 0x119a74610>"
      ]
     },
     "metadata": {},
     "output_type": "display_data"
    }
   ],
   "source": [
    "figsize(10,10)\n",
    "plt.scatter(X_test[:, 0], X_test[:, 1], marker='o', c=Y_test, s=100, alpha=0.5)"
   ]
  },
  {
   "cell_type": "code",
   "execution_count": null,
   "metadata": {
    "collapsed": true
   },
   "outputs": [],
   "source": []
  }
 ],
 "metadata": {
  "kernelspec": {
   "display_name": "Python 2",
   "language": "python",
   "name": "python2"
  },
  "language_info": {
   "codemirror_mode": {
    "name": "ipython",
    "version": 2
   },
   "file_extension": ".py",
   "mimetype": "text/x-python",
   "name": "python",
   "nbconvert_exporter": "python",
   "pygments_lexer": "ipython2",
   "version": "2.7.11"
  }
 },
 "nbformat": 4,
 "nbformat_minor": 0
}
